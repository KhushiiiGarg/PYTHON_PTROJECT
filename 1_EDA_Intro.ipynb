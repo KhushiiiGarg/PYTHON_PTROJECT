{
 "cells": [
  {
   "cell_type": "code",
   "execution_count": 3,
   "id": "ec8e04eb",
   "metadata": {},
   "outputs": [],
   "source": [
    "#Exploratory Data Analysis & Intro"
   ]
  },
  {
   "cell_type": "code",
   "execution_count": 5,
   "id": "11b41d79",
   "metadata": {},
   "outputs": [],
   "source": [
    "##Goal"
   ]
  },
  {
   "cell_type": "code",
   "execution_count": null,
   "id": "7a6863d6",
   "metadata": {},
   "outputs": [],
   "source": [
    "###1.Investigate top-paying roles and skills in the data science industry.\n",
    "###2.Use Python to explore a real-live dataset on job postings.\n",
    "###3.For job-seekers: use these insights to help find the best job opportunities."
   ]
  }
 ],
 "metadata": {
  "kernelspec": {
   "display_name": "base",
   "language": "python",
   "name": "python3"
  },
  "language_info": {
   "codemirror_mode": {
    "name": "ipython",
    "version": 3
   },
   "file_extension": ".py",
   "mimetype": "text/x-python",
   "name": "python",
   "nbconvert_exporter": "python",
   "pygments_lexer": "ipython3",
   "version": "3.13.5"
  }
 },
 "nbformat": 4,
 "nbformat_minor": 5
}
